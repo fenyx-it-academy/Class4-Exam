{
 "cells": [
  {
   "cell_type": "markdown",
   "metadata": {},
   "source": [
    "# Soru1"
   ]
  },
  {
   "cell_type": "code",
   "execution_count": 8,
   "metadata": {},
   "outputs": [],
   "source": [
    "# 2000 ve 3200 sayilari arasinda (2000 ve 3200 dahil) 7'ye tam bolunebilen fakat 5'in kati olmayan tum sayilari \n",
    "# aralarinda virgul olacak sekilde tek satirda terminale bastirin."
   ]
  },
  {
   "cell_type": "code",
   "execution_count": 16,
   "metadata": {},
   "outputs": [
    {
     "name": "stdout",
     "output_type": "stream",
     "text": [
      "[2002, 2009, 2016, 2023, 2037, 2044, 2051, 2058, 2072, 2079, 2086, 2093, 2107, 2114, 2121, 2128, 2142, 2149, 2156, 2163, 2177, 2184, 2191, 2198, 2212, 2219, 2226, 2233, 2247, 2254, 2261, 2268, 2282, 2289, 2296, 2303, 2317, 2324, 2331, 2338, 2352, 2359, 2366, 2373, 2387, 2394, 2401, 2408, 2422, 2429, 2436, 2443, 2457, 2464, 2471, 2478, 2492, 2499, 2506, 2513, 2527, 2534, 2541, 2548, 2562, 2569, 2576, 2583, 2597, 2604, 2611, 2618, 2632, 2639, 2646, 2653, 2667, 2674, 2681, 2688, 2702, 2709, 2716, 2723, 2737, 2744, 2751, 2758, 2772, 2779, 2786, 2793, 2807, 2814, 2821, 2828, 2842, 2849, 2856, 2863, 2877, 2884, 2891, 2898, 2912, 2919, 2926, 2933, 2947, 2954, 2961, 2968, 2982, 2989, 2996, 3003, 3017, 3024, 3031, 3038, 3052, 3059, 3066, 3073, 3087, 3094, 3101, 3108, 3122, 3129, 3136, 3143, 3157, 3164, 3171, 3178, 3192, 3199]\n"
     ]
    }
   ],
   "source": [
    "print([i for i in range(2002,3201,7) if i%5>0])"
   ]
  },
  {
   "cell_type": "markdown",
   "metadata": {},
   "source": [
    "# Soru2"
   ]
  },
  {
   "cell_type": "code",
   "execution_count": 17,
   "metadata": {},
   "outputs": [],
   "source": [
    "# Kullanici tarafindan girilen n sayisi kadar elemani olan ve elemanlari arasinda (i:i*i) iliskisi bulunan bir sozluk olusturunuz.\n",
    "# Ornek input: 8\n",
    "# Output: {1: 1, 2: 4, 3: 9, 4: 16, 5: 25, 6: 36, 7: 49, 8: 64}"
   ]
  },
  {
   "cell_type": "code",
   "execution_count": 10,
   "metadata": {},
   "outputs": [
    {
     "name": "stdout",
     "output_type": "stream",
     "text": [
      "8\n",
      "{1: 1, 2: 4, 3: 9, 4: 16, 5: 25, 6: 36, 7: 49, 8: 64}\n"
     ]
    }
   ],
   "source": [
    "print({i:i**2 for i in range(1,int(input())+1)})"
   ]
  },
  {
   "cell_type": "markdown",
   "metadata": {},
   "source": [
    "# Soru3"
   ]
  },
  {
   "cell_type": "code",
   "execution_count": 23,
   "metadata": {},
   "outputs": [],
   "source": [
    "# En az iki metodu olan bir Class olusturunuz.\n",
    "# 1.metot =>  inputAl: Kullanicidan input alma.\n",
    "# 2.metot =>  yazdir: Alinan inputu terminale buyuk harflerle yazdirma metodu."
   ]
  },
  {
   "cell_type": "code",
   "execution_count": 4,
   "metadata": {},
   "outputs": [
    {
     "name": "stdout",
     "output_type": "stream",
     "text": [
      "Enter the name : Ali\n",
      "Name : Ali\n"
     ]
    }
   ],
   "source": [
    "class Q3(object):     \n",
    "    def __init__ (self):\n",
    "        self.inputAl()\n",
    "\n",
    "    def inputAl(self):\n",
    "        self.name=input(\"Enter the name : \")\n",
    "        \n",
    "    def yazdir(self):\n",
    "        print(f\"\"\"Name : {self.name}\"\"\")\n",
    "        \n",
    "name = Q3()\n",
    "name.yazdir()"
   ]
  },
  {
   "cell_type": "markdown",
   "metadata": {},
   "source": [
    "# Soru4"
   ]
  },
  {
   "cell_type": "code",
   "execution_count": 5,
   "metadata": {},
   "outputs": [],
   "source": [
    "# Input ile alinan bir stringi, harfleri tekrar etmeyecek sekilde ve alfabetik olarak siralayan bir fonksiyon olusturun. \n",
    "# Boslugu da dikkate alin.\n",
    "# Ornek input: 'monty pythons flying circus'\n",
    "# Ornek output: ' cfghilmnoprstuy'\n",
    "\n",
    "# Ayni inputu tersten siralayip bir liste haline ceviren bir fonksiyon olusturun.\n",
    "# Ornek input: 'monty pythons flying circus'\n",
    "# Ornek output: ['circus', 'flying', 'pythons', 'monty']"
   ]
  },
  {
   "cell_type": "code",
   "execution_count": 13,
   "metadata": {},
   "outputs": [
    {
     "name": "stdout",
     "output_type": "stream",
     "text": [
      "monty pythons flying circus\n",
      " cfghilmnoprstuy\n",
      "['circus', 'flying', 'monty', 'pythons']\n"
     ]
    }
   ],
   "source": [
    "def order(txt):\n",
    "    return sorted(txt.split())\n",
    "    \n",
    "txt = input()\n",
    "print(''.join(sorted(set(txt))))\n",
    "print(order(txt))"
   ]
  },
  {
   "cell_type": "markdown",
   "metadata": {},
   "source": [
    "# Soru5"
   ]
  },
  {
   "cell_type": "code",
   "execution_count": 14,
   "metadata": {},
   "outputs": [],
   "source": [
    "# Input ile girilen bir cumledeki sayilarin ve harflerin miktarini hesaplayan bir fonksiyon yaziniz.\n",
    "# Ornek input: hello world! 123\n",
    "# Output:\n",
    "# HARFLER: 10\n",
    "# SAYILAR: 3"
   ]
  },
  {
   "cell_type": "code",
   "execution_count": 17,
   "metadata": {},
   "outputs": [
    {
     "name": "stdout",
     "output_type": "stream",
     "text": [
      "hello world! 123\n",
      "HARFLER: 10\n",
      "SAYILAR: 3\n"
     ]
    }
   ],
   "source": [
    "txt = input()\n",
    "num,letter = 0,0\n",
    "for i in txt:\n",
    "    if i.isalpha():\n",
    "        letter+=1\n",
    "    elif i.isnumeric():\n",
    "        num+=1\n",
    "print(f'''HARFLER: {letter}\n",
    "SAYILAR: {num}''')"
   ]
  },
  {
   "cell_type": "markdown",
   "metadata": {},
   "source": [
    "# Soru6"
   ]
  },
  {
   "cell_type": "code",
   "execution_count": null,
   "metadata": {},
   "outputs": [],
   "source": [
    "# hesap.py dosyasindaki islemler ve bakiye degerlerini import edin\n",
    "# islemler listesini okuyup sirasiyla islem tipi ve miktarina gore hesaptaki tutari guncelleyen bir kod yazin.\n",
    "# her bir adimi, olusturdugunuz 'islemler.txt' dosyasina yeni birer satir olarak ekleyin. orn. islem tipi para cekme, tutar=100 => txt dosyasinda\n",
    "# gorunmesi gereken satir + 100\n",
    "# eger islem tipi para cekme ise ve cekilmek istenen miktar halihazirda hesapta olan bakiyeden fazla ise, raise kullanarak exception olusturun ve \"hesapta yeterli miktar yoktur\"\n",
    "# benzeri bir hata mesaji printleyin.\n",
    "# en son adimda hesaptaki guncel tutari txt dosyasina yazin (bakiye: miktar) seklinde.\n",
    "# tum bu akisi dosya acma/kapama islemleri ve try-except yontemi ile yapin.\n",
    "\n",
    "# tum kod neticesinde olusturmaniz gereken islemler.txt dosyasinin icerigi asagidaki gibi olmalidir:\n",
    "# + 100\n",
    "# + 200\n",
    "# - 50\n",
    "# + 100\n",
    "# - 250\n",
    "# + 30\n",
    "# bakiye: 130\n",
    "\n",
    "# tum kod neticesinde terminalde gorunmesi gereken degerler:\n",
    "# hesapta yeterli bakiye yoktur\n",
    "# bakiye: 130\n"
   ]
  },
  {
   "cell_type": "code",
   "execution_count": 6,
   "metadata": {},
   "outputs": [
    {
     "name": "stdout",
     "output_type": "stream",
     "text": [
      "400TL icin hesapta yeterli miktar yoktur\n"
     ]
    }
   ],
   "source": [
    "from hesap import islemler, bakiye\n",
    "\n",
    "def write_file(txt):\n",
    "    with open ('islemler.txt','a+',encoding=\"utf-8\") as file:\n",
    "        file.write(txt)\n",
    "        \n",
    "balance = bakiye\n",
    "flag= ''\n",
    "for i in islemler:\n",
    "    for k,v in i.items():\n",
    "        if v=='para_yatirma':\n",
    "            flag='para_yatirma'\n",
    "            t=1\n",
    "        elif v=='para_cekme':\n",
    "            flag='para_cekme'\n",
    "            t=-1\n",
    "        elif k=='miktar':\n",
    "            if (balance<v) and t==-1:\n",
    "                print(f\"{v}TL icin hesapta yeterli miktar yoktur\")\n",
    "                break\n",
    "#                 raise 'hesapta yeterli miktar yoktur'\n",
    "            balance = balance + v*t\n",
    "            write_file(f\"islem tipi: {flag}, tutar: {v}\\n\")\n",
    "\n",
    "write_file(f\"bakiye: {balance}\\n\")"
   ]
  },
  {
   "cell_type": "code",
   "execution_count": null,
   "metadata": {},
   "outputs": [],
   "source": []
  },
  {
   "cell_type": "markdown",
   "metadata": {},
   "source": [
    "# Soru7"
   ]
  },
  {
   "cell_type": "code",
   "execution_count": 52,
   "metadata": {},
   "outputs": [],
   "source": [
    "# \"Yazici Ciftligi\" adını verdiğiniz milyon dolarlık bir is fikrine sahipsiniz.\n",
    "# Pek çok insanın ofislerinde ve evlerinde yazıcı kullandığını biliyorsunuz ve bunun hiç mantıklı olmadigini dusunuyorsunuz.\n",
    "# Neden tüm yazıcıları yazıcı çiftliğinizde birleştirip, kullanıcıların yazicilarinizi kullanarak dosyalar yazdirmasini saglayip,\n",
    "# bu dosyaları postayla onlara göndermeyesiniz ki?\n",
    "# Elbette bu harika bir fikir, bu yüzden hemen başlamaya karar veriyorsunuz.\n",
    "# Ana sorun, sunucuza gelen binlerce yazdırma komutunu işlemek ve bunları sahip olduğunuz 64 yazıcıya tek tek göndermek.\n",
    "# Amaç, herhangi bir baskı talebini aldıktan sonra 1 saat içinde baskiyi tamamlamak ve göndermek.\n",
    "# Hizmetinizin kullanıcı sayısının hızla artacağını tahmin ediyorsunuz, bu nedenle işiniz büyüdükçe taleple başa çıkmak için\n",
    "# yeni sunucular ve yazıcılar ekleyebilmeniz gerek.\n",
    "# Kullanmanız gereken veri yapıları, bu veri yapilarinin nasil uygulamaya dokulecegi ve baskı hizmetini\n",
    "# etkin bir şekilde çalıştırmak için gerekli olacak algoritmalar hakkında yaklasik 10 cümle ile kısa bir paragraf yazın.\n",
    "# Seçimlerinizi çalışma süresi ve depolama boyutu açısından açıklayın. (Time & Space Complexity)"
   ]
  },
  {
   "cell_type": "code",
   "execution_count": null,
   "metadata": {},
   "outputs": [],
   "source": []
  },
  {
   "cell_type": "code",
   "execution_count": null,
   "metadata": {},
   "outputs": [],
   "source": []
  },
  {
   "cell_type": "markdown",
   "metadata": {},
   "source": [
    "# Soru8"
   ]
  },
  {
   "cell_type": "code",
   "execution_count": 53,
   "metadata": {},
   "outputs": [],
   "source": [
    "# Binary tree yüksekliğini hesaplayan bir algoritma yazınız. Yükseklik veya derinlik,\n",
    "# kök düğümden (root node) yaprak düğüme (leaf node) giden en uzun yoldaki toplam düğüm(node) sayısıdır.\n",
    "# (Program, en uzun yoldaki toplam düğüm sayısını dikkate almalıdır. Örneğin, boş bir ağacın\n",
    "# yüksekliği 0'dır ve yalnızca bir düğümü olan ağacın yüksekliği 1'dir.)\n",
    "# Oluşturduğunuz programda aşağıdaki ağacı oluşturup yazdığınız algoritmayı test edin.\n",
    "# Programınız sonuç olarak bu ağacın maximum yüksekliğini 3 olarak vermelidir.\n",
    "# (İpucu: Recursive çözüm kullanabilirsiniz.)\n",
    "\n",
    "\n",
    "#              15\n",
    "#           /      \\\n",
    "#          /        \\\n",
    "#         10        20\n",
    "#        /  \\       / \\\n",
    "#       /    \\     /   \\\n",
    "#      8     12   16   25\n"
   ]
  },
  {
   "cell_type": "code",
   "execution_count": null,
   "metadata": {},
   "outputs": [],
   "source": []
  }
 ],
 "metadata": {
  "kernelspec": {
   "display_name": "Python 3",
   "language": "python",
   "name": "python3"
  },
  "language_info": {
   "codemirror_mode": {
    "name": "ipython",
    "version": 3
   },
   "file_extension": ".py",
   "mimetype": "text/x-python",
   "name": "python",
   "nbconvert_exporter": "python",
   "pygments_lexer": "ipython3",
   "version": "3.8.5"
  }
 },
 "nbformat": 4,
 "nbformat_minor": 4
}
